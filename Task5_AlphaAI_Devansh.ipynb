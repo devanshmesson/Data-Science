{
  "nbformat": 4,
  "nbformat_minor": 0,
  "metadata": {
    "accelerator": "GPU",
    "colab": {
      "name": "Task5_AlphaAI_Devansh.ipynb",
      "provenance": [],
      "collapsed_sections": [
        "oySFphkKyvQQ"
      ],
      "toc_visible": true,
      "authorship_tag": "ABX9TyNUBLatjE53C3Wx++peiGg3",
      "include_colab_link": true
    },
    "kernelspec": {
      "display_name": "Python 3",
      "name": "python3"
    },
    "language_info": {
      "name": "python"
    }
  },
  "cells": [
    {
      "cell_type": "markdown",
      "metadata": {
        "id": "view-in-github",
        "colab_type": "text"
      },
      "source": [
        "<a href=\"https://colab.research.google.com/github/devanshmesson/Data-Science/blob/master/Task5_AlphaAI_Devansh.ipynb\" target=\"_parent\"><img src=\"https://colab.research.google.com/assets/colab-badge.svg\" alt=\"Open In Colab\"/></a>"
      ]
    },
    {
      "cell_type": "markdown",
      "metadata": {
        "id": "DrVMuDKaw-oj"
      },
      "source": [
        "##Inputting the dataset"
      ]
    },
    {
      "cell_type": "code",
      "metadata": {
        "id": "g57Den-kXq6A"
      },
      "source": [
        "import pandas as pd\n",
        "data=pd.read_csv(\"Yelpdata.csv\")\n",
        "pd.options.mode.chained_assignment = None  # default='warn'"
      ],
      "execution_count": 3,
      "outputs": []
    },
    {
      "cell_type": "markdown",
      "metadata": {
        "id": "KqPqjE4jxFv-"
      },
      "source": [
        "##Printing the dataset"
      ]
    },
    {
      "cell_type": "code",
      "metadata": {
        "colab": {
          "base_uri": "https://localhost:8080/",
          "height": 404
        },
        "id": "1bMKncq7m63B",
        "outputId": "de77f578-c88f-4665-a048-24458b9b3ccd"
      },
      "source": [
        "data"
      ],
      "execution_count": 4,
      "outputs": [
        {
          "output_type": "execute_result",
          "data": {
            "text/html": [
              "<div>\n",
              "<style scoped>\n",
              "    .dataframe tbody tr th:only-of-type {\n",
              "        vertical-align: middle;\n",
              "    }\n",
              "\n",
              "    .dataframe tbody tr th {\n",
              "        vertical-align: top;\n",
              "    }\n",
              "\n",
              "    .dataframe thead th {\n",
              "        text-align: right;\n",
              "    }\n",
              "</style>\n",
              "<table border=\"1\" class=\"dataframe\">\n",
              "  <thead>\n",
              "    <tr style=\"text-align: right;\">\n",
              "      <th></th>\n",
              "      <th>Rating</th>\n",
              "      <th>Review</th>\n",
              "    </tr>\n",
              "  </thead>\n",
              "  <tbody>\n",
              "    <tr>\n",
              "      <th>0</th>\n",
              "      <td>1</td>\n",
              "      <td>I got 'new' tires from them and within two wee...</td>\n",
              "    </tr>\n",
              "    <tr>\n",
              "      <th>1</th>\n",
              "      <td>1</td>\n",
              "      <td>Don't waste your time.  We had two different p...</td>\n",
              "    </tr>\n",
              "    <tr>\n",
              "      <th>2</th>\n",
              "      <td>1</td>\n",
              "      <td>All I can say is the worst! We were the only 2...</td>\n",
              "    </tr>\n",
              "    <tr>\n",
              "      <th>3</th>\n",
              "      <td>1</td>\n",
              "      <td>I have been to this restaurant twice and was d...</td>\n",
              "    </tr>\n",
              "    <tr>\n",
              "      <th>4</th>\n",
              "      <td>1</td>\n",
              "      <td>Food was NOT GOOD at all! My husband &amp; I ate h...</td>\n",
              "    </tr>\n",
              "    <tr>\n",
              "      <th>...</th>\n",
              "      <td>...</td>\n",
              "      <td>...</td>\n",
              "    </tr>\n",
              "    <tr>\n",
              "      <th>194</th>\n",
              "      <td>5</td>\n",
              "      <td>Had the best burger of my life at Tessaro's ov...</td>\n",
              "    </tr>\n",
              "    <tr>\n",
              "      <th>195</th>\n",
              "      <td>5</td>\n",
              "      <td>Friendly Service. Fresh Veggies! At only 1 dol...</td>\n",
              "    </tr>\n",
              "    <tr>\n",
              "      <th>196</th>\n",
              "      <td>5</td>\n",
              "      <td>I only come to Pittsburgh twice a year, but I ...</td>\n",
              "    </tr>\n",
              "    <tr>\n",
              "      <th>197</th>\n",
              "      <td>5</td>\n",
              "      <td>Yes the pizza is the best in the burgh.  But d...</td>\n",
              "    </tr>\n",
              "    <tr>\n",
              "      <th>198</th>\n",
              "      <td>5</td>\n",
              "      <td>My girlfriend is much newer to the area so I t...</td>\n",
              "    </tr>\n",
              "  </tbody>\n",
              "</table>\n",
              "<p>199 rows × 2 columns</p>\n",
              "</div>"
            ],
            "text/plain": [
              "     Rating                                             Review\n",
              "0         1  I got 'new' tires from them and within two wee...\n",
              "1         1  Don't waste your time.  We had two different p...\n",
              "2         1  All I can say is the worst! We were the only 2...\n",
              "3         1  I have been to this restaurant twice and was d...\n",
              "4         1  Food was NOT GOOD at all! My husband & I ate h...\n",
              "..      ...                                                ...\n",
              "194       5  Had the best burger of my life at Tessaro's ov...\n",
              "195       5  Friendly Service. Fresh Veggies! At only 1 dol...\n",
              "196       5  I only come to Pittsburgh twice a year, but I ...\n",
              "197       5  Yes the pizza is the best in the burgh.  But d...\n",
              "198       5  My girlfriend is much newer to the area so I t...\n",
              "\n",
              "[199 rows x 2 columns]"
            ]
          },
          "metadata": {
            "tags": []
          },
          "execution_count": 4
        }
      ]
    },
    {
      "cell_type": "markdown",
      "metadata": {
        "id": "S0Q8ErSsw8t_"
      },
      "source": [
        "##Simplifying the dataset\n",
        "####Considering Ratings greater than 4 as Positive\n",
        "####Considering Ratings less than 4 as Negative\n"
      ]
    },
    {
      "cell_type": "code",
      "metadata": {
        "id": "05JoEF12nx7j"
      },
      "source": [
        "c=0\n",
        "for i in range(len(data)):\n",
        "  if(data['Rating'][i]>=4):\n",
        "    #print(i)\n",
        "    data['Rating'][i]=1\n",
        "  else:\n",
        "    data['Rating'][i]=0"
      ],
      "execution_count": 5,
      "outputs": []
    },
    {
      "cell_type": "markdown",
      "metadata": {
        "id": "0elo9wgLxvIy"
      },
      "source": [
        "##Number of Positive and Negative reviews in the dataset"
      ]
    },
    {
      "cell_type": "code",
      "metadata": {
        "colab": {
          "base_uri": "https://localhost:8080/"
        },
        "id": "_zkNsioexnfq",
        "outputId": "eb5a197c-582c-418e-fc60-5fa6e38cb5d6"
      },
      "source": [
        "data['Rating'].value_counts()"
      ],
      "execution_count": 6,
      "outputs": [
        {
          "output_type": "execute_result",
          "data": {
            "text/plain": [
              "1    100\n",
              "0     99\n",
              "Name: Rating, dtype: int64"
            ]
          },
          "metadata": {
            "tags": []
          },
          "execution_count": 6
        }
      ]
    },
    {
      "cell_type": "markdown",
      "metadata": {
        "id": "oySFphkKyvQQ"
      },
      "source": [
        "##Installing transformers library for loading DistilBert Model"
      ]
    },
    {
      "cell_type": "markdown",
      "metadata": {
        "id": "drSPo1uMyON6"
      },
      "source": [
        "##Loading the pre-trained DistilBERT model and tokenizer"
      ]
    },
    {
      "cell_type": "code",
      "metadata": {
        "colab": {
          "base_uri": "https://localhost:8080/"
        },
        "id": "MxcdYqpry08U",
        "outputId": "712bfd32-cef5-4820-bafa-b083d4349d44"
      },
      "source": [
        "!pip install transformers"
      ],
      "execution_count": 7,
      "outputs": [
        {
          "output_type": "stream",
          "text": [
            "Requirement already satisfied: transformers in /usr/local/lib/python3.7/dist-packages (4.5.1)\n",
            "Requirement already satisfied: regex!=2019.12.17 in /usr/local/lib/python3.7/dist-packages (from transformers) (2019.12.20)\n",
            "Requirement already satisfied: packaging in /usr/local/lib/python3.7/dist-packages (from transformers) (20.9)\n",
            "Requirement already satisfied: sacremoses in /usr/local/lib/python3.7/dist-packages (from transformers) (0.0.45)\n",
            "Requirement already satisfied: requests in /usr/local/lib/python3.7/dist-packages (from transformers) (2.23.0)\n",
            "Requirement already satisfied: tokenizers<0.11,>=0.10.1 in /usr/local/lib/python3.7/dist-packages (from transformers) (0.10.2)\n",
            "Requirement already satisfied: importlib-metadata; python_version < \"3.8\" in /usr/local/lib/python3.7/dist-packages (from transformers) (3.10.1)\n",
            "Requirement already satisfied: tqdm>=4.27 in /usr/local/lib/python3.7/dist-packages (from transformers) (4.41.1)\n",
            "Requirement already satisfied: numpy>=1.17 in /usr/local/lib/python3.7/dist-packages (from transformers) (1.19.5)\n",
            "Requirement already satisfied: filelock in /usr/local/lib/python3.7/dist-packages (from transformers) (3.0.12)\n",
            "Requirement already satisfied: pyparsing>=2.0.2 in /usr/local/lib/python3.7/dist-packages (from packaging->transformers) (2.4.7)\n",
            "Requirement already satisfied: six in /usr/local/lib/python3.7/dist-packages (from sacremoses->transformers) (1.15.0)\n",
            "Requirement already satisfied: click in /usr/local/lib/python3.7/dist-packages (from sacremoses->transformers) (7.1.2)\n",
            "Requirement already satisfied: joblib in /usr/local/lib/python3.7/dist-packages (from sacremoses->transformers) (1.0.1)\n",
            "Requirement already satisfied: chardet<4,>=3.0.2 in /usr/local/lib/python3.7/dist-packages (from requests->transformers) (3.0.4)\n",
            "Requirement already satisfied: idna<3,>=2.5 in /usr/local/lib/python3.7/dist-packages (from requests->transformers) (2.10)\n",
            "Requirement already satisfied: urllib3!=1.25.0,!=1.25.1,<1.26,>=1.21.1 in /usr/local/lib/python3.7/dist-packages (from requests->transformers) (1.24.3)\n",
            "Requirement already satisfied: certifi>=2017.4.17 in /usr/local/lib/python3.7/dist-packages (from requests->transformers) (2020.12.5)\n",
            "Requirement already satisfied: typing-extensions>=3.6.4; python_version < \"3.8\" in /usr/local/lib/python3.7/dist-packages (from importlib-metadata; python_version < \"3.8\"->transformers) (3.7.4.3)\n",
            "Requirement already satisfied: zipp>=0.5 in /usr/local/lib/python3.7/dist-packages (from importlib-metadata; python_version < \"3.8\"->transformers) (3.4.1)\n"
          ],
          "name": "stdout"
        }
      ]
    },
    {
      "cell_type": "markdown",
      "metadata": {
        "id": "oLrABIRLz5nA"
      },
      "source": [
        "##Loading pre-trained DistilBert Model and Tokenizer"
      ]
    },
    {
      "cell_type": "code",
      "metadata": {
        "id": "18q-1frvyQBH"
      },
      "source": [
        "import transformers\n",
        "ModelClass=transformers.DistilBertModel\n",
        "TokenizerClass=transformers.DistilBertTokenizer\n",
        "\n",
        "model=ModelClass.from_pretrained('distilbert-base-uncased') \n",
        "tokenizer=TokenizerClass.from_pretrained('distilbert-base-uncased')\n",
        "\n",
        "#model contains pre-trained DistilBert Model \n",
        "#model contains pre-trained DistilBert tokenizer for tokenizing the sentences"
      ],
      "execution_count": 8,
      "outputs": []
    },
    {
      "cell_type": "markdown",
      "metadata": {
        "id": "0pHSeBss4AWk"
      },
      "source": [
        "##Data Preprocessing\n",
        "\n",
        "Tokenization  \n",
        "Reviews must be tokenized and embedded in order to provide it to the DistilBert model"
      ]
    },
    {
      "cell_type": "code",
      "metadata": {
        "id": "6aa61ZlHzsLX"
      },
      "source": [
        "tokenized_reviews= data['Review'].apply((lambda review: tokenizer.encode(review, add_special_tokens=True, truncation=True)))\n",
        "temp=tokenized_reviews"
      ],
      "execution_count": 9,
      "outputs": []
    },
    {
      "cell_type": "code",
      "metadata": {
        "colab": {
          "base_uri": "https://localhost:8080/"
        },
        "id": "SO0QPdU7HiBa",
        "outputId": "330130ac-276d-4259-86f1-3773f8776ed4"
      },
      "source": [
        "tokenized_reviews\n",
        "#Each review is represented as a list of tokens"
      ],
      "execution_count": 10,
      "outputs": [
        {
          "output_type": "execute_result",
          "data": {
            "text/plain": [
              "0      [101, 1045, 2288, 1005, 2047, 1005, 13310, 201...\n",
              "1      [101, 2123, 1005, 1056, 5949, 2115, 2051, 1012...\n",
              "2      [101, 2035, 1045, 2064, 2360, 2003, 1996, 5409...\n",
              "3      [101, 1045, 2031, 2042, 2000, 2023, 4825, 3807...\n",
              "4      [101, 2833, 2001, 2025, 2204, 2012, 2035, 999,...\n",
              "                             ...                        \n",
              "194    [101, 2018, 1996, 2190, 15890, 1997, 2026, 216...\n",
              "195    [101, 5379, 2326, 1012, 4840, 2310, 13871, 311...\n",
              "196    [101, 1045, 2069, 2272, 2000, 6278, 3807, 1037...\n",
              "197    [101, 2748, 1996, 10733, 2003, 1996, 2190, 199...\n",
              "198    [101, 2026, 6513, 2003, 2172, 10947, 2000, 199...\n",
              "Name: Review, Length: 199, dtype: object"
            ]
          },
          "metadata": {
            "tags": []
          },
          "execution_count": 10
        }
      ]
    },
    {
      "cell_type": "code",
      "metadata": {
        "id": "sUSpKwAs8zaE"
      },
      "source": [
        "#Calculating maximum number of tokens among all reviews\n",
        "max_num=0\n",
        "\n",
        "for tokens in tokenized_reviews:\n",
        "  max_num=max(max_num,len(tokens))"
      ],
      "execution_count": 11,
      "outputs": []
    },
    {
      "cell_type": "markdown",
      "metadata": {
        "id": "-QuvlsAk9E2s"
      },
      "source": [
        "##Padding all the lists in \"tokenized_reviews\" of same size\n",
        "Advantage: if DistilBERT processes the tokenized_reviews as one batch, it will be faster.So, the tokenized reviews must be converted to a 2D array for padding."
      ]
    },
    {
      "cell_type": "code",
      "metadata": {
        "id": "5AeUISi49ADE"
      },
      "source": [
        "for index in range(len(tokenized_reviews)):\n",
        "  padding_needed=max_num-len(tokenized_reviews[index])\n",
        "  tokenized_reviews[index]=tokenized_reviews[index]+[0]*(padding_needed)"
      ],
      "execution_count": 12,
      "outputs": []
    },
    {
      "cell_type": "markdown",
      "metadata": {
        "id": "BpJM9OFGGzyv"
      },
      "source": [
        "##Storing padded tokenized_reviews in a 2D array"
      ]
    },
    {
      "cell_type": "code",
      "metadata": {
        "colab": {
          "base_uri": "https://localhost:8080/"
        },
        "id": "BJ_ZEhZRA6aU",
        "outputId": "6c1573d3-86e9-4ef2-8a34-15095fed6075"
      },
      "source": [
        "import numpy as np\n",
        "padded_reviews=np.array([tokens for tokens in tokenized_reviews.values])\n",
        "padded_reviews"
      ],
      "execution_count": 13,
      "outputs": [
        {
          "output_type": "execute_result",
          "data": {
            "text/plain": [
              "array([[ 101, 1045, 2288, ...,    0,    0,    0],\n",
              "       [ 101, 2123, 1005, ...,    0,    0,    0],\n",
              "       [ 101, 2035, 1045, ...,    0,    0,    0],\n",
              "       ...,\n",
              "       [ 101, 1045, 2069, ...,    0,    0,    0],\n",
              "       [ 101, 2748, 1996, ...,    0,    0,    0],\n",
              "       [ 101, 2026, 6513, ...,    0,    0,    0]])"
            ]
          },
          "metadata": {
            "tags": []
          },
          "execution_count": 13
        }
      ]
    },
    {
      "cell_type": "markdown",
      "metadata": {
        "id": "l-qEyAj-Jbti"
      },
      "source": [
        "##Creating an attention mask to avoid confusion due to padding\n",
        "DistilBert must ignore the padding in the padded_reviews because it does not add any significance in the analysis"
      ]
    },
    {
      "cell_type": "code",
      "metadata": {
        "id": "8jwSd20ZNBMF"
      },
      "source": [
        "#if elements of padded_reviews does not contain 0, then element=1, otherwise element=0\n",
        "attentionmask=np.where(padded_reviews != 0,1,0)"
      ],
      "execution_count": 14,
      "outputs": []
    },
    {
      "cell_type": "markdown",
      "metadata": {
        "id": "gDD-uw7VPmyS"
      },
      "source": [
        "##Running the DistilBert Model"
      ]
    },
    {
      "cell_type": "code",
      "metadata": {
        "id": "lkuNQc5GXm8m"
      },
      "source": [
        "import torch \n",
        "inputIDs=torch.tensor(padded_reviews) #input to model\n",
        "attentionmask=torch.tensor(attentionmask) #to ignore the padding\n",
        "\n",
        "with torch.no_grad():\n",
        "      Output_3D = model(inputIDs, attention_mask=attentionmask)"
      ],
      "execution_count": 15,
      "outputs": []
    },
    {
      "cell_type": "markdown",
      "metadata": {
        "id": "gRi9PcVDqo5s"
      },
      "source": [
        "##Filtering the Output_3D for classification\n",
        "Filtering only the first token of each sentence.This first token is the classification token [CLS].This token is added at the very beginning of every sentence "
      ]
    },
    {
      "cell_type": "code",
      "metadata": {
        "id": "y7K5vLv2sI5u"
      },
      "source": [
        "feature_matrix = Output_3D[0][:,0,:].numpy()\n",
        "Sentiment=data['Rating'] #Class"
      ],
      "execution_count": 16,
      "outputs": []
    },
    {
      "cell_type": "markdown",
      "metadata": {
        "id": "XZnPkNoetrqs"
      },
      "source": [
        "##Train/Test split of feature matrix for classification"
      ]
    },
    {
      "cell_type": "code",
      "metadata": {
        "id": "wT3rH9m_t8DL"
      },
      "source": [
        "from sklearn.model_selection import train_test_split\n",
        "x_train, x_test, y_train, y_test = train_test_split(feature_matrix,Sentiment)"
      ],
      "execution_count": 19,
      "outputs": []
    },
    {
      "cell_type": "markdown",
      "metadata": {
        "id": "gmlYqtwNwn3g"
      },
      "source": [
        "##Using Naive Bayes for classification"
      ]
    },
    {
      "cell_type": "code",
      "metadata": {
        "colab": {
          "base_uri": "https://localhost:8080/"
        },
        "id": "5qkH8r9Gvull",
        "outputId": "10d0fa99-bec1-4df6-cac0-4c4e8cf7ef7c"
      },
      "source": [
        "from sklearn import naive_bayes\n",
        "nb=naive_bayes.BernoulliNB()\n",
        "nb.fit(x_train,y_train)"
      ],
      "execution_count": 56,
      "outputs": [
        {
          "output_type": "execute_result",
          "data": {
            "text/plain": [
              "BernoulliNB(alpha=1.0, binarize=0.0, class_prior=None, fit_prior=True)"
            ]
          },
          "metadata": {
            "tags": []
          },
          "execution_count": 56
        }
      ]
    },
    {
      "cell_type": "markdown",
      "metadata": {
        "id": "jMm2265Tw16G"
      },
      "source": [
        "##Calculate accuracy"
      ]
    },
    {
      "cell_type": "code",
      "metadata": {
        "colab": {
          "base_uri": "https://localhost:8080/"
        },
        "id": "NMp1hh4Mw06Y",
        "outputId": "9ff9e4be-e0f8-4fe0-9dee-26a1cc77e15a"
      },
      "source": [
        "from sklearn.metrics import accuracy_score\n",
        "prediction=nb.predict(x_test)\n",
        "accuracy_score(prediction,y_test)"
      ],
      "execution_count": 57,
      "outputs": [
        {
          "output_type": "execute_result",
          "data": {
            "text/plain": [
              "0.8"
            ]
          },
          "metadata": {
            "tags": []
          },
          "execution_count": 57
        }
      ]
    }
  ]
}