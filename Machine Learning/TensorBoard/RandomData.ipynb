{
 "cells": [
  {
   "cell_type": "code",
   "execution_count": 17,
   "metadata": {},
   "outputs": [
    {
     "data": {
      "text/plain": [
       "(10000, 5)"
      ]
     },
     "execution_count": 17,
     "metadata": {},
     "output_type": "execute_result"
    }
   ],
   "source": [
    "import tensorflow as tf\n",
    "import numpy as np\n",
    "\n",
    "X_train = (np.random.sample((10000,5)))\n",
    "y_train =  (np.random.sample((10000,1)))\n",
    "X_train.shape"
   ]
  },
  {
   "cell_type": "code",
   "execution_count": 24,
   "metadata": {},
   "outputs": [
    {
     "name": "stdout",
     "output_type": "stream",
     "text": [
      "INFO:tensorflow:Using default config.\n",
      "INFO:tensorflow:Using config: {'_model_dir': 'train/linreg', '_tf_random_seed': None, '_save_summary_steps': 100, '_save_checkpoints_steps': None, '_save_checkpoints_secs': 600, '_session_config': allow_soft_placement: true\n",
      "graph_options {\n",
      "  rewrite_options {\n",
      "    meta_optimizer_iterations: ONE\n",
      "  }\n",
      "}\n",
      ", '_keep_checkpoint_max': 5, '_keep_checkpoint_every_n_hours': 10000, '_log_step_count_steps': 100, '_train_distribute': None, '_device_fn': None, '_protocol': None, '_eval_distribute': None, '_experimental_distribute': None, '_experimental_max_worker_delay_secs': None, '_session_creation_timeout_secs': 7200, '_service': None, '_cluster_spec': <tensorflow.python.training.server_lib.ClusterSpec object at 0x7f3526f7c588>, '_task_type': 'worker', '_task_id': 0, '_global_id_in_cluster': 0, '_master': '', '_evaluation_master': '', '_is_chief': True, '_num_ps_replicas': 0, '_num_worker_replicas': 1}\n"
     ]
    }
   ],
   "source": [
    "feature_columns = [\n",
    "      tf.feature_column.numeric_column('x', shape=X_train.shape[1:])]\n",
    "DNN_reg = tf.estimator.DNNRegressor(feature_columns=feature_columns,\n",
    "# Indicate where to store the log file    \n",
    "     model_dir='train/linreg',    \n",
    "     hidden_units=[500, 300],    \n",
    "     optimizer=tf.train.ProximalAdagradOptimizer(      \n",
    "          learning_rate=0.1,      \n",
    "          l1_regularization_strength=0.001    \n",
    "      )\n",
    ")"
   ]
  },
  {
   "cell_type": "code",
   "execution_count": 25,
   "metadata": {},
   "outputs": [
    {
     "name": "stdout",
     "output_type": "stream",
     "text": [
      "INFO:tensorflow:Calling model_fn.\n",
      "WARNING:tensorflow:Layer dnn is casting an input tensor from dtype float64 to the layer's dtype of float32, which is new behavior in TensorFlow 2.  The layer has dtype float32 because it's dtype defaults to floatx.\n",
      "\n",
      "If you intended to run this layer in float32, you can safely ignore this warning. If in doubt, this warning is likely only an issue if you are porting a TensorFlow 1.X model to TensorFlow 2.\n",
      "\n",
      "To change all layers to have dtype float64 by default, call `tf.keras.backend.set_floatx('float64')`. To change just this layer, pass dtype='float64' to the layer constructor. If you are the author of this layer, you can disable autocasting by passing autocast=False to the base Layer constructor.\n",
      "\n",
      "WARNING:tensorflow:From /home/zeph1yr/anaconda3/lib/python3.6/site-packages/tensorflow_estimator/python/estimator/canned/head.py:437: to_float (from tensorflow.python.ops.math_ops) is deprecated and will be removed in a future version.\n",
      "Instructions for updating:\n",
      "Use `tf.cast` instead.\n",
      "INFO:tensorflow:Done calling model_fn.\n",
      "INFO:tensorflow:Create CheckpointSaverHook.\n",
      "INFO:tensorflow:Graph was finalized.\n",
      "INFO:tensorflow:Running local_init_op.\n",
      "INFO:tensorflow:Done running local_init_op.\n",
      "WARNING:tensorflow:From /home/zeph1yr/anaconda3/lib/python3.6/site-packages/tensorflow_core/python/training/monitored_session.py:882: start_queue_runners (from tensorflow.python.training.queue_runner_impl) is deprecated and will be removed in a future version.\n",
      "Instructions for updating:\n",
      "To construct input pipelines, use the `tf.data` module.\n",
      "INFO:tensorflow:Saving checkpoints for 0 into train/linreg/model.ckpt.\n",
      "INFO:tensorflow:loss = 38.974728, step = 0\n",
      "INFO:tensorflow:global_step/sec: 143.65\n",
      "INFO:tensorflow:loss = 10.537575, step = 100 (0.699 sec)\n",
      "INFO:tensorflow:global_step/sec: 190.588\n",
      "INFO:tensorflow:loss = 10.500383, step = 200 (0.522 sec)\n",
      "INFO:tensorflow:global_step/sec: 272.819\n",
      "INFO:tensorflow:loss = 11.484381, step = 300 (0.366 sec)\n",
      "INFO:tensorflow:global_step/sec: 307.682\n",
      "INFO:tensorflow:loss = 11.482834, step = 400 (0.325 sec)\n",
      "INFO:tensorflow:global_step/sec: 308.926\n",
      "INFO:tensorflow:loss = 11.421213, step = 500 (0.324 sec)\n",
      "INFO:tensorflow:global_step/sec: 302.397\n",
      "INFO:tensorflow:loss = 10.119014, step = 600 (0.331 sec)\n",
      "INFO:tensorflow:global_step/sec: 287.056\n",
      "INFO:tensorflow:loss = 11.93471, step = 700 (0.348 sec)\n",
      "INFO:tensorflow:global_step/sec: 256.612\n",
      "INFO:tensorflow:loss = 11.567133, step = 800 (0.392 sec)\n",
      "INFO:tensorflow:global_step/sec: 299.782\n",
      "INFO:tensorflow:loss = 10.710116, step = 900 (0.331 sec)\n",
      "INFO:tensorflow:global_step/sec: 272.926\n",
      "INFO:tensorflow:loss = 10.006825, step = 1000 (0.366 sec)\n",
      "INFO:tensorflow:global_step/sec: 283.144\n",
      "INFO:tensorflow:loss = 10.895705, step = 1100 (0.353 sec)\n",
      "INFO:tensorflow:global_step/sec: 313.047\n",
      "INFO:tensorflow:loss = 10.376753, step = 1200 (0.320 sec)\n",
      "INFO:tensorflow:global_step/sec: 309.586\n",
      "INFO:tensorflow:loss = 11.048179, step = 1300 (0.323 sec)\n",
      "INFO:tensorflow:global_step/sec: 311.122\n",
      "INFO:tensorflow:loss = 11.376957, step = 1400 (0.321 sec)\n",
      "INFO:tensorflow:global_step/sec: 314.236\n",
      "INFO:tensorflow:loss = 11.571915, step = 1500 (0.318 sec)\n",
      "INFO:tensorflow:global_step/sec: 313.36\n",
      "INFO:tensorflow:loss = 12.086565, step = 1600 (0.320 sec)\n",
      "INFO:tensorflow:global_step/sec: 313.08\n",
      "INFO:tensorflow:loss = 11.106758, step = 1700 (0.319 sec)\n",
      "INFO:tensorflow:global_step/sec: 312.553\n",
      "INFO:tensorflow:loss = 9.823782, step = 1800 (0.320 sec)\n",
      "INFO:tensorflow:global_step/sec: 299.608\n",
      "INFO:tensorflow:loss = 10.544842, step = 1900 (0.334 sec)\n",
      "INFO:tensorflow:global_step/sec: 300.833\n",
      "INFO:tensorflow:loss = 10.924265, step = 2000 (0.332 sec)\n",
      "INFO:tensorflow:global_step/sec: 299.465\n",
      "INFO:tensorflow:loss = 11.421274, step = 2100 (0.335 sec)\n",
      "INFO:tensorflow:global_step/sec: 237.241\n",
      "INFO:tensorflow:loss = 11.264941, step = 2200 (0.421 sec)\n",
      "INFO:tensorflow:global_step/sec: 206.819\n",
      "INFO:tensorflow:loss = 10.6288185, step = 2300 (0.484 sec)\n",
      "INFO:tensorflow:global_step/sec: 210.506\n",
      "INFO:tensorflow:loss = 11.366608, step = 2400 (0.474 sec)\n",
      "INFO:tensorflow:global_step/sec: 215.089\n",
      "INFO:tensorflow:loss = 10.582493, step = 2500 (0.465 sec)\n",
      "INFO:tensorflow:global_step/sec: 255.997\n",
      "INFO:tensorflow:loss = 10.38016, step = 2600 (0.393 sec)\n",
      "INFO:tensorflow:global_step/sec: 196.032\n",
      "INFO:tensorflow:loss = 10.342323, step = 2700 (0.508 sec)\n",
      "INFO:tensorflow:global_step/sec: 261.281\n",
      "INFO:tensorflow:loss = 11.53903, step = 2800 (0.383 sec)\n",
      "INFO:tensorflow:global_step/sec: 296.842\n",
      "INFO:tensorflow:loss = 11.212471, step = 2900 (0.337 sec)\n",
      "INFO:tensorflow:Saving checkpoints for 3000 into train/linreg/model.ckpt.\n",
      "INFO:tensorflow:Loss for final step: 13.571278.\n"
     ]
    },
    {
     "data": {
      "text/plain": [
       "<tensorflow_estimator.python.estimator.canned.dnn.DNNRegressor at 0x7f3526f7c5c0>"
      ]
     },
     "execution_count": 25,
     "metadata": {},
     "output_type": "execute_result"
    }
   ],
   "source": [
    "train_input = tf.estimator.inputs.numpy_input_fn(    \n",
    "     x={\"x\": X_train},    \n",
    "     y=y_train, shuffle=False,num_epochs=None)\n",
    "DNN_reg.train(train_input,steps=3000) "
   ]
  },
  {
   "cell_type": "code",
   "execution_count": null,
   "metadata": {},
   "outputs": [],
   "source": [
    "#tensorboard --logdir = train/linreg\n"
   ]
  }
 ],
 "metadata": {
  "kernelspec": {
   "display_name": "Python 3",
   "language": "python",
   "name": "python3"
  },
  "language_info": {
   "codemirror_mode": {
    "name": "ipython",
    "version": 3
   },
   "file_extension": ".py",
   "mimetype": "text/x-python",
   "name": "python",
   "nbconvert_exporter": "python",
   "pygments_lexer": "ipython3",
   "version": "3.6.8"
  }
 },
 "nbformat": 4,
 "nbformat_minor": 2
}
